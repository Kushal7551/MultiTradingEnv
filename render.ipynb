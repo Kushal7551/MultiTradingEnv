{
 "cells": [
  {
   "cell_type": "code",
   "execution_count": 1,
   "metadata": {},
   "outputs": [
    {
     "name": "stdout",
     "output_type": "stream",
     "text": [
      " * Serving Flask app 'gym_trading_env.renderer'\n",
      " * Debug mode: off\n"
     ]
    },
    {
     "name": "stderr",
     "output_type": "stream",
     "text": [
      "WARNING: This is a development server. Do not use it in a production deployment. Use a production WSGI server instead.\n",
      " * Running on http://127.0.0.1:5000\n",
      "Press CTRL+C to quit\n",
      "127.0.0.1 - - [24/Mar/2024 01:15:29] \"GET / HTTP/1.1\" 200 -\n",
      "[2024-03-24 01:15:37,672] ERROR in app: Exception on /update_data/BTCUSD_2024-03-09_20-35-40.pkl [GET]\n",
      "Traceback (most recent call last):\n",
      "  File \"c:\\Users\\HP\\anaconda3\\envs\\tfdml_plugin\\lib\\site-packages\\flask\\app.py\", line 1463, in wsgi_app\n",
      "    response = self.full_dispatch_request()\n",
      "  File \"c:\\Users\\HP\\anaconda3\\envs\\tfdml_plugin\\lib\\site-packages\\flask\\app.py\", line 872, in full_dispatch_request\n",
      "    rv = self.handle_user_exception(e)\n",
      "  File \"c:\\Users\\HP\\anaconda3\\envs\\tfdml_plugin\\lib\\site-packages\\flask\\app.py\", line 870, in full_dispatch_request\n",
      "    rv = self.dispatch_request()\n",
      "  File \"c:\\Users\\HP\\anaconda3\\envs\\tfdml_plugin\\lib\\site-packages\\flask\\app.py\", line 855, in dispatch_request\n",
      "    return self.ensure_sync(self.view_functions[rule.endpoint])(**view_args)  # type: ignore[no-any-return]\n",
      "  File \"c:\\Users\\HP\\anaconda3\\envs\\tfdml_plugin\\lib\\site-packages\\gym_trading_env\\renderer.py\", line 57, in update\n",
      "    chart = charts(self.df, self.lines)\n",
      "  File \"c:\\Users\\HP\\anaconda3\\envs\\tfdml_plugin\\lib\\site-packages\\gym_trading_env\\utils\\charts.py\", line 15, in charts\n",
      "    df['date_str'] = df.index.strftime(\"%Y-%m-%d %H:%M\")\n",
      "AttributeError: 'Index' object has no attribute 'strftime'\n",
      "127.0.0.1 - - [24/Mar/2024 01:15:37] \"GET /update_data/BTCUSD_2024-03-09_20-35-40.pkl HTTP/1.1\" 500 -\n",
      "127.0.0.1 - - [24/Mar/2024 01:15:37] \"GET /favicon.ico HTTP/1.1\" 404 -\n",
      "[2024-03-24 01:16:13,521] ERROR in app: Exception on /update_data/BTCUSD_2024-03-09_20-28-01.pkl [GET]\n",
      "Traceback (most recent call last):\n",
      "  File \"c:\\Users\\HP\\anaconda3\\envs\\tfdml_plugin\\lib\\site-packages\\flask\\app.py\", line 1463, in wsgi_app\n",
      "    response = self.full_dispatch_request()\n",
      "  File \"c:\\Users\\HP\\anaconda3\\envs\\tfdml_plugin\\lib\\site-packages\\flask\\app.py\", line 872, in full_dispatch_request\n",
      "    rv = self.handle_user_exception(e)\n",
      "  File \"c:\\Users\\HP\\anaconda3\\envs\\tfdml_plugin\\lib\\site-packages\\flask\\app.py\", line 870, in full_dispatch_request\n",
      "    rv = self.dispatch_request()\n",
      "  File \"c:\\Users\\HP\\anaconda3\\envs\\tfdml_plugin\\lib\\site-packages\\flask\\app.py\", line 855, in dispatch_request\n",
      "    return self.ensure_sync(self.view_functions[rule.endpoint])(**view_args)  # type: ignore[no-any-return]\n",
      "  File \"c:\\Users\\HP\\anaconda3\\envs\\tfdml_plugin\\lib\\site-packages\\gym_trading_env\\renderer.py\", line 57, in update\n",
      "    chart = charts(self.df, self.lines)\n",
      "  File \"c:\\Users\\HP\\anaconda3\\envs\\tfdml_plugin\\lib\\site-packages\\gym_trading_env\\utils\\charts.py\", line 15, in charts\n",
      "    df['date_str'] = df.index.strftime(\"%Y-%m-%d %H:%M\")\n",
      "AttributeError: 'Index' object has no attribute 'strftime'\n",
      "127.0.0.1 - - [24/Mar/2024 01:16:13] \"GET /update_data/BTCUSD_2024-03-09_20-28-01.pkl HTTP/1.1\" 500 -\n"
     ]
    }
   ],
   "source": [
    "from gym_trading_env.renderer import Renderer\n",
    "renderer = Renderer(render_logs_dir=r\"C:\\Users\\HP\\Desktop\\RL2\\file\\kaggle\\working\\render_logs\")\n",
    "renderer.run()\n"
   ]
  },
  {
   "cell_type": "code",
   "execution_count": null,
   "metadata": {},
   "outputs": [],
   "source": []
  }
 ],
 "metadata": {
  "kernelspec": {
   "display_name": "tfdml_plugin",
   "language": "python",
   "name": "python3"
  },
  "language_info": {
   "codemirror_mode": {
    "name": "ipython",
    "version": 3
   },
   "file_extension": ".py",
   "mimetype": "text/x-python",
   "name": "python",
   "nbconvert_exporter": "python",
   "pygments_lexer": "ipython3",
   "version": "3.9.16"
  }
 },
 "nbformat": 4,
 "nbformat_minor": 2
}
